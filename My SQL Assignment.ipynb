{
 "cells": [
  {
   "cell_type": "markdown",
   "id": "d1d4b6ce-134b-4284-aa66-2ce93ed4ea38",
   "metadata": {},
   "source": [
    "### Q1. What is a database? Differentiate between SQL and NoSQL databases.\n"
   ]
  },
  {
   "cell_type": "markdown",
   "id": "f1917fce-5472-470a-bcdb-b5c83c79a998",
   "metadata": {},
   "source": [
    "#### A database is a structured collection of data that is organized, stored, and managed for efficient retrieval and manipulation. Databases are used to store and manage various types of information, such as customer records, product inventories, financial transactions, and more. They provide a way to store data in a structured manner to facilitate easy querying, updating, and analysis."
   ]
  },
  {
   "cell_type": "markdown",
   "id": "96d7a6b7-afb6-48f7-80c9-48ac283976df",
   "metadata": {},
   "source": [
    "##### SQL (Structured Query Language) and NoSQL (Not Only SQL) are two broad categories of databases, each with its own characteristics and use cases:"
   ]
  },
  {
   "cell_type": "markdown",
   "id": "f0e1a8be-5e11-4c0a-a070-3b0d691b4d6b",
   "metadata": {},
   "source": [
    "## SQL Databases:\n",
    "\n"
   ]
  },
  {
   "cell_type": "markdown",
   "id": "c4e2899d-0c72-4f23-8a47-3a0e18967154",
   "metadata": {},
   "source": [
    "1. Structure: SQL databases use a structured schema that defines the data types, relationships, and constraints for the stored data. They are typically based on the relational model, where data is organized into tables with rows and columns.\n",
    "\n",
    "2. Query Language: SQL databases use the SQL language for querying and manipulating data. SQL queries are powerful and standardized, allowing users to perform complex operations such as filtering, sorting, joining, and aggregating data.\n",
    "\n",
    "3. ACID Transactions: SQL databases emphasize ACID (Atomicity, Consistency, Isolation, Durability) properties, ensuring data integrity and reliability, especially in transactional scenarios.\n",
    "\n",
    "## Examples: MySQL, PostgreSQL, Oracle Database, Microsoft SQL Server.\n",
    "\n",
    "### NoSQL Databases:\n",
    "\n",
    "1. Flexibility: NoSQL databases offer more flexible data models and can handle unstructured or semi-structured data. They don't strictly adhere to the tabular structure of SQL databases.\n",
    "\n",
    "2. Querying: NoSQL databases use various query languages or APIs, depending on the specific type of database. These query methods might be less standardized compared to SQL.\n",
    "\n",
    "3. Scalability: NoSQL databases are often designed with horizontal scalability in mind, making them suitable for handling large volumes of data and high-speed read/write operations.\n",
    "\n",
    "4. Types: There are several types of NoSQL databases, each optimized for specific use cases:\n",
    "\n",
    "4. Document stores: Store data in JSON-like documents. Examples: MongoDB, Couchbase.\n",
    "\n",
    "6. Key-value stores: Store data as key-value pairs. Examples: Redis, Amazon DynamoDB.\n",
    "\n",
    "7. Column-family stores: Store data in column families instead of tables. Examples: Apache Cassandra, HBase.\n",
    "\n",
    "8. Graph databases: Optimize for handling interconnected data and relationships. Examples: Neo4j, Amazon Neptune.\n",
    "\n",
    "#### In summary, SQL databases are well-suited for applications requiring structured data, complex querying, and strong data consistency, while NoSQL databases are more suitable for scenarios involving large-scale data, flexible data models, and high scalability requirements. The choice between SQL and NoSQL depends on the specific needs of the application and the nature of the data being stored.\n",
    "\n",
    "\n",
    "\n",
    "\n"
   ]
  },
  {
   "cell_type": "markdown",
   "id": "d904d735-3c3f-4e3d-bd51-5e0a330826d5",
   "metadata": {},
   "source": [
    "### Q2. What is DDL? Explain why CREATE, DROP, ALTER, and TRUNCATE are used with an example."
   ]
  },
  {
   "cell_type": "markdown",
   "id": "250d9027-ee97-4781-9bcd-ac30bb235d4e",
   "metadata": {},
   "source": [
    "#### DDL stands for \"Data Definition Language,\" which is a subset of SQL (Structured Query Language) used for defining and managing the structure of a database. DDL statements are used to create, modify, and delete database objects such as tables, indexes, and constraints. DDL statements don't directly manipulate data; instead, they define the structure that data will be stored in.\n",
    "\n",
    "##### Here are explanations and examples for some common DDL statements:"
   ]
  },
  {
   "cell_type": "markdown",
   "id": "5580aa3f-861a-4993-8b81-f8ef4e8397dc",
   "metadata": {},
   "source": [
    "1. CREATE:\n",
    "The CREATE statement is used to create new database objects, such as tables, indexes, and views. It defines the structure of the object and any associated constraints.\n",
    "\n",
    "Example - Creating a Table:"
   ]
  },
  {
   "cell_type": "raw",
   "id": "a359ff24-8203-44fe-931e-46e5a41cb9d4",
   "metadata": {},
   "source": [
    "CREATE TABLE Employees (\n",
    "    EmployeeID INT PRIMARY KEY,\n",
    "    FirstName VARCHAR(50),\n",
    "    LastName VARCHAR(50),\n",
    "    DepartmentID INT\n",
    ");\n"
   ]
  },
  {
   "cell_type": "markdown",
   "id": "6e2a0240-9863-4cbc-8aae-488c05baa9fc",
   "metadata": {},
   "source": [
    "In this example, a new table named \"Employees\" is created with columns for EmployeeID, FirstName, LastName, and DepartmentID."
   ]
  },
  {
   "cell_type": "markdown",
   "id": "154ff771-bbae-47c3-b606-39106afc2462",
   "metadata": {},
   "source": [
    "2. DROP:\n",
    "The DROP statement is used to remove existing database objects, such as tables or indexes, from the database.\n",
    "\n",
    "Example - Dropping a Table:2. "
   ]
  },
  {
   "cell_type": "raw",
   "id": "28360aae-a61b-4fa8-bc46-d1d6154e4949",
   "metadata": {},
   "source": [
    "DROP TABLE Employees;\n"
   ]
  },
  {
   "cell_type": "markdown",
   "id": "decd80af-fa60-44bf-a959-76da9e283c65",
   "metadata": {},
   "source": [
    "This example removes the \"Employees\" table and all of its data from the database."
   ]
  },
  {
   "cell_type": "markdown",
   "id": "2b0d4a56-fde5-49b9-a8cb-fe74b0d6569d",
   "metadata": {},
   "source": [
    "3. ALTER:\n",
    "The ALTER statement is used to modify the structure of an existing database object. It can be used to add, modify, or delete columns, constraints, and other properties.\n",
    "\n",
    "Example - Adding a Column:3. "
   ]
  },
  {
   "cell_type": "raw",
   "id": "87186f82-8780-4807-9f4b-b34b178501fa",
   "metadata": {},
   "source": [
    "ALTER TABLE Employees\n",
    "ADD Email VARCHAR(100);\n"
   ]
  },
  {
   "cell_type": "markdown",
   "id": "1ffd5c13-f178-499c-9cbd-ff579bf434f8",
   "metadata": {},
   "source": [
    "This example adds a new \"Email\" column to the \"Employees\" table."
   ]
  },
  {
   "cell_type": "markdown",
   "id": "fd3a3d19-6432-4662-bfde-20a1a22c2c0d",
   "metadata": {},
   "source": [
    "4. TRUNCATE:\n",
    "The TRUNCATE statement is used to remove all data from a table while keeping the table structure intact. Unlike DROP, it doesn't remove the table itself.\n",
    "\n",
    "Example - Truncating a Table:"
   ]
  },
  {
   "cell_type": "raw",
   "id": "09712447-c44b-4487-8477-630a31f43feb",
   "metadata": {},
   "source": [
    "TRUNCATE TABLE Employees;\n"
   ]
  },
  {
   "cell_type": "markdown",
   "id": "1c327b4d-f157-4272-90d3-f40f9357c667",
   "metadata": {
    "tags": []
   },
   "source": [
    "###### This example removes all rows and data from the \"Employees\" table, but the table structure remains for future use.\n",
    "\n",
    "These DDL statements are essential for defining and maintaining the structure of a database, allowing you to create, modify, and manage the various objects that store and organize your data. It's important to use these statements carefully, as they can have significant implications for the organization and functionality of your database."
   ]
  },
  {
   "cell_type": "markdown",
   "id": "b4c55327-115a-450b-8685-b106c7660392",
   "metadata": {},
   "source": [
    "### Q3. What is DML? Explain INSERT, UPDATE, and DELETE with an example."
   ]
  },
  {
   "cell_type": "markdown",
   "id": "42c43381-44de-4263-88dd-7f885ef41082",
   "metadata": {},
   "source": [
    "#### DML stands for \"Data Manipulation Language,\" which is a subset of SQL (Structured Query Language) used for interacting with the data stored in a database. DML statements are used to insert, update, and delete data within the database tables. Unlike DDL (Data Definition Language), which focuses on defining and managing the structure of the database, DML focuses on working with the actual data stored in the database tables.\n",
    "\n",
    "##### Here are explanations and examples for some common DML statements:"
   ]
  },
  {
   "cell_type": "markdown",
   "id": "61f47b2e-ea12-4520-90c3-a1ff4dfd256c",
   "metadata": {},
   "source": [
    "# 1. INSERT:\n",
    "The INSERT statement is used to add new records or rows of data into a table.\n",
    "\n",
    "Example - Inserting Data:"
   ]
  },
  {
   "cell_type": "raw",
   "id": "85a3eca6-b708-4b89-a6be-3931e3b91004",
   "metadata": {},
   "source": [
    "INSERT INTO Employees (EmployeeID, FirstName, LastName, DepartmentID)\n",
    "VALUES (1, 'John', 'Doe', 101);\n"
   ]
  },
  {
   "cell_type": "markdown",
   "id": "340e7c2a-ceb6-4150-9a15-f0acbf114218",
   "metadata": {},
   "source": [
    "In this example, a new record is added to the \"Employees\" table with values for EmployeeID, FirstName, LastName, and DepartmentID."
   ]
  },
  {
   "cell_type": "markdown",
   "id": "8045867d-15f0-483f-befd-7b31d79183fe",
   "metadata": {},
   "source": [
    "# 2. UPDATE:\n",
    "The UPDATE statement is used to modify existing records or rows in a table.\n",
    "\n",
    "Example - Updating Data:"
   ]
  },
  {
   "cell_type": "raw",
   "id": "ad837ca7-f5ab-4ebd-ad80-49a56b3ef06f",
   "metadata": {},
   "source": [
    "UPDATE Employees\n",
    "SET DepartmentID = 102\n",
    "WHERE EmployeeID = 1;\n"
   ]
  },
  {
   "cell_type": "markdown",
   "id": "c1b3bd93-3c85-47ba-9d30-3867195783c8",
   "metadata": {},
   "source": [
    "This example updates the \"DepartmentID\" of the employee with EmployeeID 1 in the \"Employees\" table."
   ]
  },
  {
   "cell_type": "markdown",
   "id": "a6057ef8-174a-458a-8b0a-3dd4f2abba2f",
   "metadata": {},
   "source": [
    "# 3. DELETE:\n",
    "The DELETE statement is used to remove records or rows from a table.\n",
    "\n",
    "Example - Deleting Data:"
   ]
  },
  {
   "cell_type": "raw",
   "id": "3f79c5ef-4ad8-4fe0-a2bd-5142d9dc2eac",
   "metadata": {},
   "source": [
    "DELETE FROM Employees\n",
    "WHERE EmployeeID = 1;\n"
   ]
  },
  {
   "cell_type": "markdown",
   "id": "64e206ca-4ea9-418d-9b3d-c4419cb89f86",
   "metadata": {},
   "source": [
    " This example deletes the employee with EmployeeID 1 from the \"Employees\" table.\n",
    "\n",
    "##### DML statements are crucial for managing the actual data within a database. They allow you to insert new data, modify existing data, and remove unwanted data, which are essential operations for maintaining accurate and up-to-date information within your application's database. As with DDL statements, it's important to use DML statements carefully to ensure data integrity and consistency."
   ]
  },
  {
   "cell_type": "markdown",
   "id": "22861cd4-b3d0-4b91-bfdf-901959dfdff9",
   "metadata": {},
   "source": [
    "### Q4. What is DQL? Explain SELECT with an example."
   ]
  },
  {
   "cell_type": "markdown",
   "id": "7c6381a0-83df-43f4-ad2f-008de34b64f2",
   "metadata": {},
   "source": [
    "DQL stands for \"Data Query Language,\" which is a subset of SQL (Structured Query Language) used for querying and retrieving data from a database. DQL is primarily focused on retrieving data stored within the database tables. The most common and powerful DQL statement is the SELECT statement.\n",
    "\n",
    "Here's an explanation of the SELECT statement along with an example:\n",
    "\n",
    "SELECT:\n",
    "The SELECT statement is used to retrieve data from one or more database tables. It allows you to specify which columns you want to retrieve and which conditions the retrieved data should meet.\n",
    "\n",
    "Example - Retrieving Data:"
   ]
  },
  {
   "cell_type": "raw",
   "id": "cd4af331-1712-406c-9c0f-0517ca0cff62",
   "metadata": {},
   "source": [
    "SELECT FirstName, LastName, DepartmentID\n",
    "FROM Employees\n",
    "WHERE DepartmentID = 102;"
   ]
  },
  {
   "cell_type": "markdown",
   "id": "d4d8de35-6651-4091-8023-dd099e34ead0",
   "metadata": {},
   "source": [
    "#### In this example, the SELECT statement retrieves the \"FirstName,\" \"LastName,\" and \"DepartmentID\" columns from the \"Employees\" table for all records where the \"DepartmentID\" is 102. The result would be a set of rows with the specified columns that match the condition.\n",
    "\n",
    "##### The basic syntax of the SELECT statement is as follows:\n",
    "\n"
   ]
  },
  {
   "cell_type": "raw",
   "id": "974c0a81-3bb3-43a6-98df-f90b36229a9f",
   "metadata": {},
   "source": [
    "SELECT column1, column2, ...\n",
    "FROM table_name\n",
    "WHERE condition;"
   ]
  },
  {
   "cell_type": "markdown",
   "id": "15f45ec3-750a-49a1-ad62-b6bae32c2d3f",
   "metadata": {},
   "source": [
    "The SELECT statement can also include other clauses to further refine the results, such as:\n",
    "\n",
    "ORDER BY: Specifies the order in which the results should be sorted.\n",
    "GROUP BY: Groups the results based on specified columns.\n",
    "HAVING: Filters the results of a GROUP BY query.\n",
    "LIMIT: Limits the number of rows returned by the query.\n",
    "The SELECT statement is fundamental for retrieving data from a database and is used extensively in applications to display information to users, perform analysis, generate reports, and more.\n",
    "\n",
    "It's important to note that DQL statements are read-only operations; they don't modify the data in the database. If you want to modify data, you would use DML statements like INSERT, UPDATE, and DELETE, which were discussed in the previous response."
   ]
  },
  {
   "cell_type": "markdown",
   "id": "55155d07-2a54-4801-a52d-ba399ed5e592",
   "metadata": {},
   "source": [
    "### Q5. Explain Primary Key and Foreign Key."
   ]
  },
  {
   "cell_type": "markdown",
   "id": "c585311d-f344-4414-aa45-4c4cd15cf56b",
   "metadata": {},
   "source": [
    "## Primary Key:\n",
    "A primary key is a unique identifier for each record or row in a relational database table. It serves as a means of uniquely identifying each record within the table. The primary key enforces data integrity and ensures that there are no duplicate records with the same key value. It also provides a way to establish relationships between tables.\n",
    "\n",
    "Key characteristics of a primary key:\n",
    "\n",
    "#### 1. Uniqueness:   Each value in the primary key column must be unique across all rows in the table.\n",
    "\n",
    "#### 2. Non-Null:     The primary key column cannot contain null values. Every record must have a value in the primary key column.\n",
    "\n",
    "#### 3. Stability:    The primary key value should ideally be immutable and not change over time, as it's used to identify the record. \n",
    "\n",
    "##### Examples:\n",
    "##### In a table named \"Students,\" an \"StudentID\" column could be designated as the primary key. Each student would have a unique \"StudentID,\" ensuring that no two students have the same ID."
   ]
  },
  {
   "cell_type": "markdown",
   "id": "991494da-9add-425c-855e-2b78d99afbe3",
   "metadata": {},
   "source": [
    "## Foreign Key:\n",
    "A foreign key is a column or a set of columns in a table that establishes a link between data in two different tables. It creates a relationship between tables by referencing the primary key of another table. The purpose of a foreign key is to maintain referential integrity, ensuring that the data in the related tables remains consistent.\n",
    "\n",
    "Key characteristics of a foreign key:\n",
    "\n",
    "### 1. Referential Integrity: The values in the foreign key column(s) of the referencing table must match the values of the primary key column(s) in the referenced table. This maintains the integrity of the relationship.\n",
    "\n",
    "### 2. Relationships: Foreign keys establish relationships between tables, often reflecting associations such as parent-child or one-to-many relationships.\n",
    "\n",
    "### 3. Data Consistency: Foreign keys help maintain data consistency by preventing invalid or orphaned references between tables.\n",
    "\n",
    "#### Example:\n",
    "#### Consider two tables, \"Orders\" and \"Customers.\" The \"Orders\" table might have a foreign key column called \"CustomerID,\" which references the primary key column \"CustomerID\" in the \"Customers\" table. This foreign key establishes a link between orders and the customers who placed them.\n",
    "\n",
    "##### In summary, a primary key uniquely identifies records within a table, while a foreign key establishes relationships between tables by referencing the primary key of another table. These concepts are fundamental to relational databases and help ensure data integrity and maintain meaningful relationships between data entities.\n",
    "\n",
    "\n",
    "\n",
    "\n"
   ]
  },
  {
   "cell_type": "markdown",
   "id": "26887d86-dfef-40f1-8f5a-68bc72523fc9",
   "metadata": {},
   "source": [
    "### Q6. Write a python code to connect MySQL to python. Explain the cursor() and execute() method."
   ]
  },
  {
   "cell_type": "markdown",
   "id": "711baec9-e62f-45ab-a931-5a6c5439080b",
   "metadata": {},
   "source": [
    "To connect Python to MySQL, you can use the mysql-connector library, which provides a convenient way to establish a connection and interact with a MySQL database. First, you need to install the library if you haven't already:\n"
   ]
  },
  {
   "cell_type": "code",
   "execution_count": 3,
   "id": "4de38aab-7a2f-4feb-b034-a78572349d37",
   "metadata": {},
   "outputs": [
    {
     "name": "stdout",
     "output_type": "stream",
     "text": [
      "Collecting mysql-connector-python\n",
      "  Downloading mysql_connector_python-8.1.0-cp310-cp310-manylinux_2_17_x86_64.whl (27.5 MB)\n",
      "\u001b[2K     \u001b[90m━━━━━━━━━━━━━━━━━━━━━━━━━━━━━━━━━━━━━━━━\u001b[0m \u001b[32m27.5/27.5 MB\u001b[0m \u001b[31m39.2 MB/s\u001b[0m eta \u001b[36m0:00:00\u001b[0m00:01\u001b[0m00:01\u001b[0m\n",
      "\u001b[?25hRequirement already satisfied: protobuf<=4.21.12,>=4.21.1 in /opt/conda/lib/python3.10/site-packages (from mysql-connector-python) (4.21.11)\n",
      "Installing collected packages: mysql-connector-python\n",
      "Successfully installed mysql-connector-python-8.1.0\n",
      "Note: you may need to restart the kernel to use updated packages.\n"
     ]
    }
   ],
   "source": [
    "pip install mysql-connector-python\n"
   ]
  },
  {
   "cell_type": "markdown",
   "id": "9d08cbb5-2739-4081-b3d8-9efa5d3d6b38",
   "metadata": {},
   "source": [
    "Here's an example of how to connect to a MySQL database using Python and perform a simple SQL query using the cursor() and execute() methods:\n",
    "\n"
   ]
  },
  {
   "cell_type": "code",
   "execution_count": null,
   "id": "ff39c328-0b42-4e7a-a209-cc2decd0b6cc",
   "metadata": {},
   "outputs": [],
   "source": [
    "import mysql.connector\n",
    "\n",
    "# Establishing a connection to the MySQL database\n",
    "connection = mysql.connector.connect(\n",
    "    host=\"localhost\",\n",
    "    user=\"kumar_gupta\",\n",
    "    password=\"gupta\",\n",
    "    database=\"your_database\"\n",
    ")\n",
    "\n",
    "# Creating a cursor object\n",
    "cursor = connection.cursor()\n",
    "\n",
    "# Executing an SQL query\n",
    "query = \"SELECT * FROM Employees\"\n",
    "cursor.execute(query)\n",
    "\n",
    "# Fetching the results\n",
    "results = cursor.fetchall()\n",
    "\n",
    "# Displaying the results\n",
    "for row in results:\n",
    "    print(row)\n",
    "\n",
    "# Closing the cursor and the connection\n",
    "cursor.close()\n",
    "connection.close()\n"
   ]
  },
  {
   "cell_type": "markdown",
   "id": "8e959e53-4072-407d-a826-03b7a95925e2",
   "metadata": {},
   "source": [
    "#### Explanation:\n",
    "\n",
    "1. Import the mysql.connector module to use its functionalities.\n",
    "\n",
    "2. Establish a connection to the MySQL database using the provided credentials (replace your_username, your_password, and your_database with your actual values).\n",
    "\n",
    "3. Create a cursor object using the cursor() method. The cursor is used to execute SQL queries and fetch results.\n",
    "\n",
    "4. Define an SQL query using the query variable.\n",
    "\n",
    "5. Execute the SQL query using the execute() method of the cursor.\n",
    "\n",
    "6. Fetch the results using the fetchall() method. This retrieves all the rows returned by the query.\n",
    "\n",
    "7. Display the fetched results using a loop.\n",
    "\n",
    "8. Close the cursor using the close() method to free up resources.\n",
    "\n",
    "9. Close the connection using the close() method.\n",
    "\n",
    "#### The cursor() method creates a cursor object that acts as a pointer to the result set of a query. It provides methods to execute SQL statements and fetch results.\n",
    "\n",
    "#### The execute() method is used to execute an SQL statement that is passed as an argument. This can be a query or any other SQL command. After executing the query, you can fetch the results using methods like fetchone(), fetchall(), or fetchmany(), depending on your needs.\n",
    "\n",
    "#### Both the cursor() and execute() methods are essential for interacting with databases and retrieving data in Python."
   ]
  },
  {
   "cell_type": "markdown",
   "id": "42c2e18b-8622-416b-9f8e-71cc9953fa4f",
   "metadata": {},
   "source": [
    "### Q7. Give the order of execution of SQL clauses in an SQL query."
   ]
  },
  {
   "cell_type": "markdown",
   "id": "26da8652-4eb0-481a-bb5f-7f2b37686625",
   "metadata": {},
   "source": [
    "In a standard SQL query, the clauses are typically executed in the following order:\n",
    "\n",
    "1. SELECT: This is where you specify the columns you want to retrieve in your query's result set.\n",
    "\n",
    "2. FROM: You specify the table(s) from which you want to retrieve the data. This clause defines the source of the data.\n",
    "\n",
    "3. JOIN: If you're using any type of join operation (INNER JOIN, LEFT JOIN, etc.), it's executed after the FROM clause. This is where you combine data from multiple tables based on specified conditions.\n",
    "\n",
    "4. WHERE: This clause is used to filter the rows based on specified conditions. It's applied after the data is retrieved from the tables but before any grouping or aggregation occurs.\n",
    "\n",
    "5. GROUP BY: If you're using grouping to aggregate data, the GROUP BY clause is executed next. It's used to group the result set based on one or more columns.\n",
    "\n",
    "6. HAVING: If you're using the HAVING clause (which filters the result of the GROUP BY clause), it's executed after the grouping is performed.\n",
    "\n",
    "7. ORDER BY: This clause is used to sort the result set based on specified columns. It's applied after all other clauses have been executed.\n",
    "\n",
    "8. LIMIT / OFFSET: If you're using LIMIT to restrict the number of rows returned, or OFFSET to skip a certain number of rows, these clauses are executed after all other processing.\n",
    "\n",
    "##### It's important to note that some databases might have variations in behavior or optimizations, so the exact order might vary slightly. However, the general flow described above is followed by most relational databases when executing an SQL query.\n",
    "\n",
    "\n",
    "\n",
    "\n"
   ]
  },
  {
   "cell_type": "code",
   "execution_count": null,
   "id": "7f8a5385-49fc-402d-a44c-1ed3031dad63",
   "metadata": {},
   "outputs": [],
   "source": []
  }
 ],
 "metadata": {
  "kernelspec": {
   "display_name": "Python 3 (ipykernel)",
   "language": "python",
   "name": "python3"
  },
  "language_info": {
   "codemirror_mode": {
    "name": "ipython",
    "version": 3
   },
   "file_extension": ".py",
   "mimetype": "text/x-python",
   "name": "python",
   "nbconvert_exporter": "python",
   "pygments_lexer": "ipython3",
   "version": "3.10.8"
  }
 },
 "nbformat": 4,
 "nbformat_minor": 5
}
